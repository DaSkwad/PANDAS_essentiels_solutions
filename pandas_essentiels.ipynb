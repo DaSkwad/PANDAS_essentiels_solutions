{
 "cells": [
  {
   "cell_type": "markdown",
   "id": "7ff27226",
   "metadata": {},
   "source": [
    "![Pandas](img/pandas.png)"
   ]
  },
  {
   "cell_type": "markdown",
   "id": "e7d6bd65",
   "metadata": {},
   "source": [
    "Bienvenue dans ce notebook dédié à **Pandas**, l'une des bibliothèques les plus importantes pour manipuler des données en Python.\n",
    "\n",
    "🎯 Objectif : Apprendre à manipuler des données tabulaires en étudiant les bases de **Pandas**.\n",
    "\n",
    "---\n",
    "\n",
    "## 📌 Sommaire :\n",
    "1. Création d'une DataFrame  \n",
    "2. Chargement de données (CSV)  \n",
    "3. Exploration rapide des données  \n",
    "4. Sélection et filtres  \n",
    "5. Opérations sur les colonnes  \n",
    "6. Nettoyage des données  \n",
    "7. Groupement et agrégation  \n",
    "8. Fusion de DataFrames\n",
    "\n",
    "---\n"
   ]
  },
  {
   "cell_type": "markdown",
   "id": "9debdda9",
   "metadata": {},
   "source": [
    "# Introduction"
   ]
  },
  {
   "cell_type": "markdown",
   "id": "820b5d6a",
   "metadata": {},
   "source": [
    "Pandas est une bibliothèque Python incontournable pour la **manipulation** et l’**analyse de données tabulaires** (comme les fichiers CSV, Excel, ou bases de données relationnelles).\n",
    "\n",
    "Elle est largement utilisée en **data science**, **machine learning**, **finance**, et dans toute activité où l’on travaille avec des **données structurées**."
   ]
  },
  {
   "cell_type": "markdown",
   "id": "4b67847d",
   "metadata": {},
   "source": [
    "# 1. Créer une DataFrame manuellement"
   ]
  },
  {
   "cell_type": "markdown",
   "id": "7547b014",
   "metadata": {},
   "source": [
    "La DataFrame est la structure principale de Pandas. Elle représente un **tableau 2D** composé de **lignes** et de **colonnes nommées**, un peu comme une feuille Excel.\n",
    "\n",
    "Dans cette première étape, nous allons créer une **DataFrame** à partir d’un dictionnaire Python. Chaque clé du dictionnaire représente le nom d’une colonne, et chaque valeur est une liste correspondant aux données de cette colonne."
   ]
  },
  {
   "cell_type": "code",
   "execution_count": null,
   "id": "8b9912fc",
   "metadata": {},
   "outputs": [],
   "source": [
    "# Chargement de la bibliothèque Pandas et de numpy\n",
    "import pandas as pd\n",
    "import numpy as np"
   ]
  },
  {
   "cell_type": "code",
   "execution_count": null,
   "id": "8d9d24d8",
   "metadata": {},
   "outputs": [],
   "source": [
    "# Dictionnaire contenant les données à transformer\n",
    "data = {\n",
    "    \"Nom\": [\"Alice\", \"Bob\", \"Charlie\"],\n",
    "    \"Âge\": [25, 30, 35],\n",
    "    \"Ville\": [\"Paris\", \"Lyon\", \"Marseille\"]\n",
    "}\n",
    "\n",
    "# Conversion du dictionnaire en DataFrame\n",
    "df = pd.DataFrame(data)\n",
    "\n",
    "display(df)"
   ]
  },
  {
   "cell_type": "markdown",
   "id": "042c0ba1",
   "metadata": {},
   "source": [
    "### 🧩 Exercice"
   ]
  },
  {
   "cell_type": "markdown",
   "id": "4a5ffc66",
   "metadata": {},
   "source": [
    "> Créez votre propre DataFrame avec les colonnes : `Produit`, `Prix`, `Quantité`"
   ]
  },
  {
   "cell_type": "code",
   "execution_count": null,
   "id": "6a18aed2",
   "metadata": {},
   "outputs": [],
   "source": [
    "data = {\n",
    "    'Produit': ['Tomate', 'Carotte', 'Poivron', 'Courgette', 'Aubergine'],\n",
    "    'Prix': [2.5, 1.8, 3.2, 2.0, 2.7],\n",
    "    'Quantité': [10, 15, 7, 12, 9]\n",
    "}\n",
    "\n",
    "df = pd.DataFrame(data)\n",
    "display(df)"
   ]
  },
  {
   "cell_type": "markdown",
   "id": "e24d32ec",
   "metadata": {},
   "source": [
    "# 2. 📂 Lire un fichier CSV"
   ]
  },
  {
   "cell_type": "markdown",
   "id": "cda0a000",
   "metadata": {},
   "source": [
    "Dans la grande majorité des projets de data science, les données proviennent d’un fichier externe, souvent au format CSV (Comma-Separated Values).\n",
    "Ce format est simple, lisible, et largement utilisé pour exporter des données depuis Excel, des bases de données ou des outils en ligne.\n",
    "\n",
    "Avec Pandas, la fonction `pd.read_csv()` permet de charger rapidement un fichier CSV dans une DataFrame.\n"
   ]
  },
  {
   "cell_type": "code",
   "execution_count": null,
   "id": "62c8d39c",
   "metadata": {},
   "outputs": [],
   "source": [
    "# Chargement d'un fichier CSV\n",
    "df = pd.read_csv(\"data/employees.csv\")\n",
    "\n",
    "display(df)"
   ]
  },
  {
   "cell_type": "markdown",
   "id": "7ba53607",
   "metadata": {},
   "source": [
    "# 3. 🔍 Exploration rapide des données"
   ]
  },
  {
   "cell_type": "markdown",
   "id": "be57dd79",
   "metadata": {},
   "source": [
    "Une fois le fichier chargé, la première étape consiste à explorer rapidement la structure et le contenu des données.\n",
    "Cela permet de :\n",
    "- vérifier que le fichier a bien été lu,\n",
    "- repérer d’éventuels problèmes (valeurs manquantes, colonnes inutiles…),\n",
    "- et mieux comprendre les variables disponibles.\n",
    "\n",
    "Pandas fournit plusieurs méthodes très pratiques pour cette phase d’inspection : "
   ]
  },
  {
   "cell_type": "code",
   "execution_count": null,
   "id": "a8a31c69",
   "metadata": {},
   "outputs": [],
   "source": [
    "# Connaître les dimensions du tableau : (lignes, colonnes)\n",
    "df.shape"
   ]
  },
  {
   "cell_type": "code",
   "execution_count": null,
   "id": "2599d4fe",
   "metadata": {},
   "outputs": [],
   "source": [
    "# Affiche les premières lignes du DataFrame (5 ligne par défaut)\n",
    "df.head()"
   ]
  },
  {
   "cell_type": "code",
   "execution_count": null,
   "id": "fdb459f8",
   "metadata": {},
   "outputs": [],
   "source": [
    "# Affiche les 10 premières lignes du DataFrame\n",
    "df.head(10)"
   ]
  },
  {
   "cell_type": "code",
   "execution_count": null,
   "id": "2fd6590f",
   "metadata": {},
   "outputs": [],
   "source": [
    "# Résumé général : nombre de lignes, colonnes, types, valeurs nulles\n",
    "df.info()"
   ]
  },
  {
   "cell_type": "code",
   "execution_count": null,
   "id": "4aba3f5d",
   "metadata": {},
   "outputs": [],
   "source": [
    "# Statistiques descriptives pour les colonnes numériques\n",
    "df.describe()"
   ]
  },
  {
   "cell_type": "code",
   "execution_count": null,
   "id": "c0d6e303",
   "metadata": {},
   "outputs": [],
   "source": [
    "# Liste des noms de colonnes.\n",
    "df.columns\n"
   ]
  },
  {
   "cell_type": "markdown",
   "id": "14293440",
   "metadata": {},
   "source": [
    "# 4. 🔎 Sélection et filtrage de données"
   ]
  },
  {
   "cell_type": "markdown",
   "id": "020ea32a",
   "metadata": {},
   "source": [
    "Une fois les données chargées et explorées, vous allez souvent vouloir :\n",
    "- accéder à une ou plusieurs colonnes spécifiques,\n",
    "- ou filtrer les lignes selon des conditions (par exemple : age > 25, ville = \"Paris\", etc.)."
   ]
  },
  {
   "cell_type": "markdown",
   "id": "805e4648",
   "metadata": {},
   "source": [
    "### 4.1. Sélection"
   ]
  },
  {
   "cell_type": "markdown",
   "id": "f28c9f9b",
   "metadata": {},
   "source": [
    "En Pandas, on accède à une colonne comme à une clé de dictionnaire. Cela retourne une **Series**, c’est-à-dire un vecteur contenant les valeurs de cette colonne."
   ]
  },
  {
   "cell_type": "code",
   "execution_count": null,
   "id": "1cb91fec",
   "metadata": {},
   "outputs": [],
   "source": [
    "# Accès à une colonne\n",
    "selected_column = df[\"Nom_complet\"]\n",
    "\n",
    "selected_column"
   ]
  },
  {
   "cell_type": "code",
   "execution_count": null,
   "id": "335d9d95",
   "metadata": {},
   "outputs": [],
   "source": [
    "# Type du contenu retourné par la sélection (Series)\n",
    "type(selected_column)"
   ]
  },
  {
   "cell_type": "markdown",
   "id": "5132737f",
   "metadata": {},
   "source": [
    "### 4.2. Filtrage"
   ]
  },
  {
   "cell_type": "markdown",
   "id": "226ece37",
   "metadata": {},
   "source": [
    "Il est possible d'appliquer un masque ou des conditions directement sur les colonnes."
   ]
  },
  {
   "cell_type": "code",
   "execution_count": null,
   "id": "34fe6ce0",
   "metadata": {},
   "outputs": [],
   "source": [
    "# Masque de filtrage\n",
    "mask = df[\"Age\"] > 25\n",
    "\n",
    "# Aperçu du massque\n",
    "display(mask)\n",
    "\n",
    "# Retourne toutes les lignes où la colonne Age est strictement supérieure à 25.\n",
    "# Ceci revient à dire : \"Afficher toutes les lignes où mask vaut True\".\n",
    "df[mask]"
   ]
  },
  {
   "cell_type": "markdown",
   "id": "1e06fe58",
   "metadata": {},
   "source": [
    "# 5. ➕ Opérations sur les colonnes"
   ]
  },
  {
   "cell_type": "markdown",
   "id": "afe76856",
   "metadata": {},
   "source": [
    "Dans Pandas, on peut facilement **modifier**, **créer** ou **supprimer** des colonnes. Ces opérations sont très courantes lorsqu’on prépare des données pour l’analyse ou le machine learning."
   ]
  },
  {
   "cell_type": "markdown",
   "id": "8f1bcfbd",
   "metadata": {},
   "source": [
    "### 5.1. Colonnes dérivées"
   ]
  },
  {
   "cell_type": "markdown",
   "id": "8e620113",
   "metadata": {},
   "source": [
    "Les opérations mathématiques sont vectorisées c'est à dire qu'elles s’appliquent à toute la colonne."
   ]
  },
  {
   "cell_type": "code",
   "execution_count": null,
   "id": "c148e846",
   "metadata": {},
   "outputs": [],
   "source": [
    "# Créer une nouvelle colonne pour le salaire mensuel\n",
    "df[\"Salaire mensuel\"] = df[\"Salaire\"] / 12\n",
    "\n",
    "df"
   ]
  },
  {
   "cell_type": "markdown",
   "id": "2aa30750",
   "metadata": {},
   "source": [
    "### 🧩 Exercices"
   ]
  },
  {
   "cell_type": "markdown",
   "id": "83050556",
   "metadata": {},
   "source": [
    "> Créez une colonne \"Age/Salaire\" qui représente le ratio entre l’âge et le salaire annuel."
   ]
  },
  {
   "cell_type": "code",
   "execution_count": null,
   "id": "a096a4a6",
   "metadata": {},
   "outputs": [],
   "source": [
    "df[\"Age/Salaire\"] = df[\"Age\"] / df[\"Salaire\"]\n",
    "df.head()"
   ]
  },
  {
   "cell_type": "markdown",
   "id": "13d873cd",
   "metadata": {},
   "source": [
    "> 💰 Les employés qui gagnent moins de 60 000 € par an reçoivent une prime de 5 000 €, les autres 2 000 €.  \n",
    "> Créez une colonne \"Prime\" avec la valeur appropriée selon le salaire.  \n",
    ">\n",
    "> 💡 indice : vous pouvez utiliser **Numpy** avec sa méthode **where** (ex : `np.where()`)"
   ]
  },
  {
   "cell_type": "code",
   "execution_count": null,
   "id": "9c6d9172",
   "metadata": {},
   "outputs": [],
   "source": [
    "df[\"Prime\"] = np.where(df[\"Salaire\"] < 60000, 5000, 2000)\n",
    "\n",
    "df.head(15)"
   ]
  },
  {
   "cell_type": "markdown",
   "id": "dd0cb2fb",
   "metadata": {},
   "source": [
    "### 5.2. Transformations personnalisées avec .apply()"
   ]
  },
  {
   "cell_type": "markdown",
   "id": "b420219a",
   "metadata": {},
   "source": [
    "Une colonne dérivée n’a pas besoin d’être un calcul numérique. On peut aussi :\n",
    "- transformer du texte,\n",
    "- extraire de l’information,\n",
    "- ou catégoriser des données.\n",
    "\n",
    "La méthode `.apply()` permet d’appliquer une **fonction** ou une **lambda** à chaque élément d’une colonne (ou d’une ligne).\n",
    "C’est très utile lorsqu’on veut transformer les données d’une manière plus complexe qu’une simple opération mathématique.\n",
    "\n",
    "Qu'est-ce qu'une lambda ? : [Lire cet article](https://www.w3schools.com/python/python_lambda.asp)"
   ]
  },
  {
   "cell_type": "code",
   "execution_count": null,
   "id": "b56f2c7e",
   "metadata": {},
   "outputs": [],
   "source": [
    "# Ajouter le suffixe (France) à chaque ville de chaque ligne\n",
    "df[\"Ville_complete\"] = df[\"Ville\"].apply(lambda v: v + \" (France)\")\n",
    "\n",
    "df.Ville_complete.value_counts()\n",
    "\n",
    "# 🧠 Équivalent avec une fonction \n",
    "#\n",
    "#def ajouter_suffixe(ville):\n",
    "#    return ville + \" (France)\"\n",
    "#\n",
    "#df[\"Ville_complete\"] = df[\"Ville\"].apply(ajouter_suffixe)"
   ]
  },
  {
   "cell_type": "markdown",
   "id": "a543719b",
   "metadata": {},
   "source": [
    "### 🧩 Exercices"
   ]
  },
  {
   "cell_type": "markdown",
   "id": "c8902065",
   "metadata": {},
   "source": [
    "> Créez deux colonnes supplémentaires à partir du nom complet :\n",
    "> - une colonne `Prénom`\n",
    "> - une colonne `Nom_de_famille`\n",
    ">\n",
    "> 💡 indice : pensez à la méthode `.split()` d'un type `string`"
   ]
  },
  {
   "cell_type": "code",
   "execution_count": null,
   "id": "72002e3b",
   "metadata": {},
   "outputs": [],
   "source": [
    "df[\"Prénom\"] = df[\"Nom_complet\"].str.split().str[0]\n",
    "df[\"Nom_de_famille\"] = df[\"Nom_complet\"].str.split().str[1]\n",
    "\n",
    "df.head()"
   ]
  },
  {
   "cell_type": "markdown",
   "id": "d91286c8",
   "metadata": {},
   "source": [
    "> Créez une colonne `Position_ville` qui indique si la ville est située dans la moitié nord ou dans la moitié sud.  \n",
    "> 💡 indice : on considère Lille et Paris au nord, Lyon et Marseille au sud."
   ]
  },
  {
   "cell_type": "code",
   "execution_count": null,
   "id": "fb4895fd",
   "metadata": {},
   "outputs": [],
   "source": [
    "df[\"Position_ville\"] = df[\"Ville\"].apply(lambda ville: \"Nord\" if ville in [\"Lille\", \"Paris\"] else \"Sud\")\n",
    "\n",
    "df.head()"
   ]
  },
  {
   "cell_type": "markdown",
   "id": "415620c0",
   "metadata": {},
   "source": [
    "### 5.3. Renommer ou supprimer des colonnes"
   ]
  },
  {
   "cell_type": "code",
   "execution_count": null,
   "id": "2c699397",
   "metadata": {},
   "outputs": [],
   "source": [
    "# Renommer en anglais les différentes colonnes\n",
    "df = df.rename(columns={\"Nom_complet\": \"Full_name\", \"Ville\": \"Location\", \"Salaire\": \"Income\", \"Statut\": \"Status\"})\n",
    "\n",
    "df"
   ]
  },
  {
   "cell_type": "code",
   "execution_count": null,
   "id": "557acbc1",
   "metadata": {},
   "outputs": [],
   "source": [
    "# Supprimer des colonnes\n",
    "df = df.drop([\"Salaire mensuel\", \"Ville_complete\"], axis=1)\n",
    "\n",
    "df\n",
    "\n",
    "# 🧠 Comprendre les axes dans pandas : \n",
    "# On utilise `axis=0` lorsqu'on veut agir verticalement (lignes)\n",
    "# On utilise `axis=1` lorsqu'on veut agir horizontalement (colonnes)"
   ]
  },
  {
   "cell_type": "markdown",
   "id": "6b7e311e",
   "metadata": {},
   "source": [
    "# 6. 💊 Traitement de données manquantes"
   ]
  },
  {
   "cell_type": "markdown",
   "id": "24a9f46a",
   "metadata": {},
   "source": [
    "Lorsque l’on travaille avec des données réelles, il est très fréquent de rencontrer des **valeurs manquantes** : une case vide dans un fichier CSV, une valeur absente dans un formulaire, etc.\n",
    "\n",
    "Avant de décider quoi faire avec ces valeurs, il faut les détecter, comprendre où elles sont, puis choisir une stratégie adaptée : **suppression**, **remplacement**, **interpolation**, etc."
   ]
  },
  {
   "cell_type": "markdown",
   "id": "e02693e8",
   "metadata": {},
   "source": [
    "### 6.1 Détection des valeurs manquantes"
   ]
  },
  {
   "cell_type": "code",
   "execution_count": null,
   "id": "1cd3252a",
   "metadata": {},
   "outputs": [],
   "source": [
    "# Chargement du dataset du fichier employees_nulls.csv\n",
    "df_employees_nulls = pd.read_csv(\"data/employees_nulls.csv\")\n",
    "\n",
    "df_employees_nulls.head()"
   ]
  },
  {
   "cell_type": "markdown",
   "id": "501ad29a",
   "metadata": {},
   "source": [
    "#### a. Visualisation d'ensemble"
   ]
  },
  {
   "cell_type": "markdown",
   "id": "a1e10feb",
   "metadata": {},
   "source": [
    "Il est possible de repérer les valeurs manquantes dans chaque cellule du dataFrame. Les cellules marquées `True` indiquent une valeur manquante."
   ]
  },
  {
   "cell_type": "code",
   "execution_count": null,
   "id": "96d7aef3",
   "metadata": {},
   "outputs": [],
   "source": [
    "df_employees_nulls.isna()"
   ]
  },
  {
   "cell_type": "markdown",
   "id": "8e07dfa8",
   "metadata": {},
   "source": [
    "#### b. Visualisation par colonne"
   ]
  },
  {
   "cell_type": "markdown",
   "id": "8ed703ae",
   "metadata": {},
   "source": [
    "Pour compter le nombre de valeurs manquantes par colonne, on utilise la combinaison de `.isna()` et `.sum()`.\n",
    "La méthode `.isna()` identifie les cellules manquantes en retournant `True` ou `False`, et `.sum()` **additionne ensuite ces True**.\n",
    "\n",
    "En effet, en Python (et donc dans Pandas), les valeurs booléennes ont une valeur numérique implicite :\n",
    "- `True` vaut 1\n",
    "- `False` vaut 0\n",
    "\n",
    "Ainsi, `.sum()` appliqué à une série booléenne permet de compter les `True`, c’est-à-dire ici, les valeurs manquantes."
   ]
  },
  {
   "cell_type": "code",
   "execution_count": null,
   "id": "450a9ff2",
   "metadata": {},
   "outputs": [],
   "source": [
    "# Compter le nombre de valeurs manquantes par colonne\n",
    "df_employees_nulls.isna().sum()"
   ]
  },
  {
   "cell_type": "markdown",
   "id": "34315ce4",
   "metadata": {},
   "source": [
    "#### c. Comptage du nombre de lignes concernées"
   ]
  },
  {
   "cell_type": "markdown",
   "id": "78937a1b",
   "metadata": {},
   "source": [
    "Pour compter le nombre de lignes contenant au moins une valeur manquante, on utilise la combinaison de `.isna()`, `.any(axis=1)`, `.sum()`:\n",
    "- `.isna()` renvoie un DataFrame de booléens (True si la cellule est manquante, False sinon)\n",
    "- `.any(axis=1)` parcourt chaque ligne (axis=1 signifie \"le long des colonnes\") et retourne True si au moins une des colonnes contient une valeur manquante sur cette ligne\n",
    "- `.sum()` additionne les True (chaque True vaut 1), ce qui donne le nombre total de lignes concernées"
   ]
  },
  {
   "cell_type": "code",
   "execution_count": null,
   "id": "6f53b43c",
   "metadata": {},
   "outputs": [],
   "source": [
    "# Voir le nombre de lignes contenant au moins une valeur manquante\n",
    "df_employees_nulls.isna().any(axis=1).sum()"
   ]
  },
  {
   "cell_type": "markdown",
   "id": "b75fd35d",
   "metadata": {},
   "source": [
    "### 🧩 Exercices (sur le dataset **\"data/employees_nulls_training.csv\"**)"
   ]
  },
  {
   "cell_type": "markdown",
   "id": "e73c8c8d",
   "metadata": {},
   "source": [
    "⚠️ Assurez-vous d’avoir préalablement chargé le fichier `data/employees_nulls_training.csv`"
   ]
  },
  {
   "cell_type": "markdown",
   "id": "19d4d577",
   "metadata": {},
   "source": [
    "> 1. Utilisez une méthode pour vérifier s’il y a au moins une valeur manquante dans tout le DataFrame.\n",
    "> 2. Affichez le nombre de valeurs manquantes pour chaque colonne\n",
    "> 3. Affichez toutes les lignes contenant au moins une valeur manquante.\n",
    "> 4. Affichez pour chaque colonne le pourcentage de valeurs manquantes,"
   ]
  },
  {
   "cell_type": "code",
   "execution_count": null,
   "id": "e75848cf",
   "metadata": {},
   "outputs": [],
   "source": [
    "df = pd.read_csv(\"data/employees_nulls_training.csv\")\n",
    "\n",
    "# 1. \n",
    "display( df.isnull().any() )\n",
    "\n",
    "# 2.\n",
    "display( df.isnull().sum() )\n",
    "\n",
    "# 3.\n",
    "display( df[df.isnull().any(axis=1)] )\n",
    "\n",
    "# 4.\n",
    "display( df.isnull().mean() * 100 )"
   ]
  },
  {
   "cell_type": "markdown",
   "id": "a2c01892",
   "metadata": {},
   "source": [
    "### 6.2 Traitement des valeurs manquantes"
   ]
  },
  {
   "cell_type": "markdown",
   "id": "86f77858",
   "metadata": {},
   "source": [
    "#### a. Remplacement par une valeur statistique (ex: moyenne ou médiane)"
   ]
  },
  {
   "cell_type": "code",
   "execution_count": null,
   "id": "af663728",
   "metadata": {},
   "outputs": [],
   "source": [
    "# Exemple : remplacer les âges manquants par la moyenne des âges.\n",
    "df_employees_nulls[\"Age\"] = df_employees_nulls[\"Age\"].fillna(df[\"Age\"].mean())\n",
    "\n",
    "df_employees_nulls.isna().sum()"
   ]
  },
  {
   "cell_type": "markdown",
   "id": "b21de41a",
   "metadata": {},
   "source": [
    "#### b. Remplacement selon une logique conditionnelle ou métier"
   ]
  },
  {
   "cell_type": "code",
   "execution_count": null,
   "id": "08d7bfd2",
   "metadata": {},
   "outputs": [],
   "source": [
    "# Exemple : si la ville est manquante, on met \"Non précisé\"\n",
    "df_employees_nulls[\"Ville\"] = df_employees_nulls[\"Ville\"].fillna(\"Non précisé\")\n",
    "\n",
    "df_employees_nulls.isna().sum()"
   ]
  },
  {
   "cell_type": "markdown",
   "id": "4b0b49e1",
   "metadata": {},
   "source": [
    "#### c. Supprimer les lignes contenant des valeurs manquantes"
   ]
  },
  {
   "cell_type": "markdown",
   "id": "a75eec9e",
   "metadata": {},
   "source": [
    "Cette technique est utilisée lorsque les lignes incomplètes sont peu nombreuses ou peu importantes car dans le cas contraire il y a des risques de perdre trop de données."
   ]
  },
  {
   "cell_type": "code",
   "execution_count": null,
   "id": "78b0c1a0",
   "metadata": {},
   "outputs": [],
   "source": [
    "df_employees_nulls = df_employees_nulls.dropna()\n",
    "\n",
    "df_employees_nulls.isna().sum()"
   ]
  },
  {
   "cell_type": "markdown",
   "id": "2c0d1091",
   "metadata": {},
   "source": [
    "### 🧩 Exercices (sur le dataset **\"data/employees_nulls_training.csv\"**)"
   ]
  },
  {
   "cell_type": "markdown",
   "id": "b53cce5e",
   "metadata": {},
   "source": [
    "⚠️ Assurez-vous d’avoir préalablement chargé le fichier `data/employees_nulls_training.csv`"
   ]
  },
  {
   "cell_type": "markdown",
   "id": "de84060b",
   "metadata": {},
   "source": [
    "> 1. Supprimez toutes les lignes où le nom est manquant.\n",
    "> 2. Remplacez les valeurs manquantes de la colonne `Salaire` par la médiane de cette colonne.\n",
    "> 3. Remplacez les valeurs manquantes de la colonne `Age` par la moyenne de cette colonne.\n",
    "> 4. Remplacez les valeurs manquantes de la colonne `Ville` par \"Inconnu\".\n",
    "> 5. Si une colonne est indispensable à l’analys de données (ex. : `Statut`), propose une stratégie justifiée : suppression de la ligne ou remplacement."
   ]
  },
  {
   "cell_type": "code",
   "execution_count": null,
   "id": "462cd716",
   "metadata": {},
   "outputs": [],
   "source": [
    "df.shape"
   ]
  },
  {
   "cell_type": "code",
   "execution_count": null,
   "id": "8d326b21",
   "metadata": {},
   "outputs": [],
   "source": [
    "df = pd.read_csv(\"data/employees_nulls_training.csv\")\n",
    "\n",
    "# 1.\n",
    "df = df.dropna(subset=[\"Nom_complet\"])\n",
    "\n",
    "# 2.\n",
    "df[\"Salaire\"] = df[\"Salaire\"].fillna(df[\"Salaire\"].median())\n",
    "\n",
    "# 3.\n",
    "df[\"Age\"] = df[\"Age\"].fillna(df[\"Age\"].mean())\n",
    "\n",
    "# 4.\n",
    "df[\"Ville\"] = df[\"Ville\"].fillna(\"Inconnu\")\n",
    "\n",
    "# 5. La colonne Statut étant essentielle pour notre analyse, nous avons choisi de supprimer les 46 lignes pour lesquelles cette information est manquante. \n",
    "# Cela représente 4,6 % du jeu de données (sur un total de 1000 lignes). \n",
    "# Bien que ce taux soit relativement faible, nous avons préféré cette approche à l’imputation, car inférer des valeurs manquantes pour une variable catégorielle comporte un risque élevé d’erreur ou de biais.\n",
    "df[\"Statut\"] = df[\"Statut\"].dropna()\n",
    "\n",
    "df.isnull().sum()"
   ]
  },
  {
   "cell_type": "markdown",
   "id": "172f6a39",
   "metadata": {},
   "source": [
    "# 7. 📊 Groupement et agrégation"
   ]
  },
  {
   "cell_type": "markdown",
   "id": "4eb3d26c",
   "metadata": {},
   "source": [
    "Le groupement permet de **segmenter** un jeu de données en **sous-ensembles** (par exemple par ville, par catégorie ou par client), puis d’appliquer une **fonction d’agrégation** à chaque groupe : somme, moyenne, maximum, etc.\n",
    "\n",
    "C’est une opération très puissante en data science pour produire des résumés statistiques par groupe."
   ]
  },
  {
   "cell_type": "code",
   "execution_count": null,
   "id": "f424d44e",
   "metadata": {},
   "outputs": [],
   "source": [
    "df = pd.read_csv(\"data/employees.csv\")\n",
    "\n",
    "# Sélectionner uniquement les colonnes qui nous intéressent\n",
    "df_numeriques = df[[\"Ville\", \"Salaire\"]]\n",
    "\n",
    "# Regrouper par ville et faire une somme des salaire par ville\n",
    "df_numeriques.groupby(\"Ville\").sum()"
   ]
  },
  {
   "cell_type": "markdown",
   "id": "1dfecb43",
   "metadata": {},
   "source": [
    "D'autres opérations sont possibles comme l'affichage des statistiques descriptives avec `.describe()`"
   ]
  },
  {
   "cell_type": "code",
   "execution_count": null,
   "id": "e0595a73",
   "metadata": {},
   "outputs": [],
   "source": [
    "# Statistiques descriptives par ville\n",
    "display(df_numeriques.groupby(\"Ville\").describe())\n",
    "\n",
    "# ℹ️ Il est possible d’accéder directement à une statistique spécifique\n",
    "# comme le nombre de valeurs ou la moyenne, en utilisant des méthodes dédiées telles que .count() ou .mean().\n",
    "display(df_numeriques.groupby(\"Ville\").count()) # Nombre de salaire existant (non nulle) par ville\n",
    "display(df_numeriques.groupby(\"Ville\").mean())  # Moyenne des salaire par ville"
   ]
  },
  {
   "cell_type": "markdown",
   "id": "6474d437",
   "metadata": {},
   "source": [
    "### 🧩 Exercices"
   ]
  },
  {
   "cell_type": "markdown",
   "id": "b22f90f8",
   "metadata": {},
   "source": [
    "> À partir du dataset `data/employees.csv`, répondez à ces questions :\n",
    "> - Quelle est la moyenne des salaires annuels de plus de 35000€ par statut marital ?\n",
    "> - Quel est le pourcentage d’employés mariés dans chaque ville ?"
   ]
  },
  {
   "cell_type": "code",
   "execution_count": null,
   "id": "8b455542",
   "metadata": {},
   "outputs": [],
   "source": [
    "df = pd.read_csv(\"data/employees.csv\")\n",
    "\n",
    "moyennes_salaire = df[df[\"Salaire\"] > 35000].groupby(\"Statut\")[\"Salaire\"].mean()\n",
    "display(moyennes_salaire)\n",
    "\n",
    "df[\"Est_marié\"] = df[\"Statut\"] == \"Marié(e)\"\n",
    "pourcentage_mariés = df.groupby(\"Ville\")[\"Est_marié\"].mean() * 100\n",
    "display(pourcentage_mariés)"
   ]
  },
  {
   "cell_type": "markdown",
   "id": "493ba10a",
   "metadata": {},
   "source": [
    "# 8. 🔗 Fusionner deux DataFrames"
   ]
  },
  {
   "cell_type": "markdown",
   "id": "c22b2514",
   "metadata": {},
   "source": [
    "Lorsque les données sont réparties dans plusieurs tableaux (par exemple clients d’un côté, commandes de l’autre), il est souvent nécessaire de les fusionner.\n",
    "\n",
    "Pandas propose deux grands types de fusions :\n",
    "- fusion horizontale (alignement par colonne)\n",
    "- fusion verticale (empilement de lignes) "
   ]
  },
  {
   "cell_type": "markdown",
   "id": "aab152c2",
   "metadata": {},
   "source": [
    "### a. Fusion horizontale (alignement par colonne) – `pd.merge()`"
   ]
  },
  {
   "cell_type": "code",
   "execution_count": null,
   "id": "45760674",
   "metadata": {},
   "outputs": [],
   "source": [
    "df_clients = pd.read_csv(\"data/clients.csv\")\n",
    "df_commandes = pd.read_csv(\"data/commandes.csv\")\n",
    "\n",
    "display(df_clients)\n",
    "display(df_commandes)\n",
    "\n",
    "# Fusion sur les identifiants : correspondance ligne à ligne\n",
    "df_fusion = pd.merge(df_clients, df_commandes, left_on=\"ID\", right_on=\"Client_ID\")\n",
    "display(df_fusion)"
   ]
  },
  {
   "cell_type": "markdown",
   "id": "ae2bba9a",
   "metadata": {},
   "source": [
    "À l'instar de SQL, il est possible d'utliser d'autres jointures (`left`, `right`, `outer`)."
   ]
  },
  {
   "cell_type": "code",
   "execution_count": null,
   "id": "874cb551",
   "metadata": {},
   "outputs": [],
   "source": [
    "# 🔁 Jointure gauche (LEFT JOIN) :\n",
    "# Garde toutes les lignes du DataFrame de gauche (clients),\n",
    "# même si aucun client n’a passé de commande (valeurs manquantes dans 'Montant').\n",
    "display( pd.merge(df_clients, df_commandes, left_on=\"ID\", right_on=\"Client_ID\", how=\"left\") )\n",
    "\n",
    "# 🔁 Jointure droite (RIGHT JOIN) :\n",
    "# Garde toutes les lignes du DataFrame de droite (commandes),\n",
    "# même si certaines commandes n'ont pas de client correspondant (valeurs manquantes dans 'Nom').\n",
    "display( pd.merge(df_clients, df_commandes, left_on=\"ID\", right_on=\"Client_ID\", how=\"right\") )\n",
    "\n",
    "# 🔁 Jointure externe complète (FULL OUTER JOIN) :\n",
    "# Garde toutes les lignes des deux DataFrames,\n",
    "# insère des NaN là où il n'y a pas de correspondance (côté client ou côté commande).\n",
    "display( pd.merge(df_clients, df_commandes, left_on=\"ID\", right_on=\"Client_ID\", how=\"outer\"))"
   ]
  },
  {
   "cell_type": "markdown",
   "id": "dabd979f",
   "metadata": {},
   "source": [
    "### 🧩 Exercice"
   ]
  },
  {
   "cell_type": "markdown",
   "id": "4ff0c17f",
   "metadata": {},
   "source": [
    "> Chargez les fichiers CSV `\"data/students.csv\"` et `\"data/notes.csv\"` dans deux DataFrames : `df_students` et `df_notes` puis répondez aux demandes suivantes :\n",
    "> - Réalisez une jointure interne (inner) pour ne conserver que les étudiants ayant une note.\n",
    "> - Réalisez une jointure gauche (left) pour conserver tous les étudiants, même ceux sans note.\n",
    "> - Réalisez une jointure externe (outer) pour afficher tous les étudiants et toutes les notes, même sans correspondance."
   ]
  },
  {
   "cell_type": "code",
   "execution_count": null,
   "id": "84d012f3",
   "metadata": {},
   "outputs": [],
   "source": [
    "df_students = pd.read_csv(\"data/students.csv\")\n",
    "df_notes = pd.read_csv(\"data/notes.csv\")\n",
    "\n",
    "inner_join = pd.merge(df_students, df_notes, left_on=\"ID\", right_on=\"Etudiant_ID\", how=\"inner\")\n",
    "display(inner_join)\n",
    "\n",
    "left_join = pd.merge(df_students, df_notes, left_on=\"ID\", right_on=\"Etudiant_ID\", how=\"left\")\n",
    "display(inner_join)\n",
    "\n",
    "outer_join = pd.merge(df_students, df_notes, left_on=\"ID\", right_on=\"Etudiant_ID\", how=\"outer\")\n",
    "display(inner_join)"
   ]
  },
  {
   "cell_type": "markdown",
   "id": "4bfa5e79",
   "metadata": {},
   "source": [
    "### b. Fusion verticale (empilement de lignes) – `pd.concat()`"
   ]
  },
  {
   "cell_type": "markdown",
   "id": "d635325a",
   "metadata": {},
   "source": [
    "Ce type de fusion est utilisé pour concaténer des DataFrame similaires."
   ]
  },
  {
   "cell_type": "code",
   "execution_count": null,
   "id": "d994037a",
   "metadata": {},
   "outputs": [],
   "source": [
    "df_1 = pd.read_csv(\"data/sales_1.csv\")\n",
    "df_2 = pd.read_csv(\"data/sales_2.csv\")\n",
    "df_3 = pd.read_csv(\"data/sales_3.csv\")\n",
    "\n",
    "# Fusion verticale : les lignes des DataFrame sont empilées par ordre de lecture\n",
    "df_sales = pd.concat([df_1, df_2, df_3])\n",
    "\n",
    "df_sales.reset_index()  # On réinitialise les index après la fusion"
   ]
  },
  {
   "cell_type": "markdown",
   "id": "6f7e93b4",
   "metadata": {},
   "source": [
    "### 🧩 Exercices"
   ]
  },
  {
   "cell_type": "markdown",
   "id": "169ce79e",
   "metadata": {},
   "source": [
    "> Chargez les fichiers CSV `\"data/sessions_1.csv\"`, `\"data/sessions_2.csv\"` et `\"data/sessions_3.csv\"` dans trois DataFrames puis répondez aux demandes suivantes :\n",
    "> - Concatènez les trois dataset pour obtenir un historique complet. (Pensez à réindexer les lignes après la concaténation avec ignore_index=True)\n",
    "> - Triez le DataFrame fusionné par date croissante.\n",
    "> - Affichez le nombre total de participants par thème.\n",
    "> - Identifie les participants qui sont venus plusieurs fois."
   ]
  },
  {
   "cell_type": "code",
   "execution_count": null,
   "id": "081f7505",
   "metadata": {},
   "outputs": [],
   "source": [
    "df1 = pd.read_csv(\"data/sessions_1.csv\")\n",
    "df2 = pd.read_csv(\"data/sessions_2.csv\")\n",
    "df3 = pd.read_csv(\"data/sessions_3.csv\")\n",
    "\n",
    "df_all = pd.concat([df1, df2, df3], ignore_index=True)\n",
    "\n",
    "df_all[\"Date\"] = pd.to_datetime(df_all[\"Date\"])\n",
    "df_all = df_all.sort_values(by=\"Date\")\n",
    "display(df_all.head())\n",
    "\n",
    "participants_par_theme = df_all[\"Thème\"].value_counts()\n",
    "display(participants_par_theme)\n",
    "\n",
    "participants_frequents = df_all[\"Participant\"].value_counts()\n",
    "display(participants_frequents)\n",
    "participants_recurrents = participants_frequents[participants_frequents > 1]\n",
    "display(participants_recurrents)\n"
   ]
  },
  {
   "cell_type": "markdown",
   "id": "e39ac682",
   "metadata": {},
   "source": [
    "---\n",
    "# ✅ Bravo !\n",
    "Vous maîtrisez les bases de Pandas. Vous pouvez maintenant explorer, nettoyer et transformer des données !"
   ]
  }
 ],
 "metadata": {
  "kernelspec": {
   "display_name": ".venv",
   "language": "python",
   "name": "python3"
  },
  "language_info": {
   "codemirror_mode": {
    "name": "ipython",
    "version": 3
   },
   "file_extension": ".py",
   "mimetype": "text/x-python",
   "name": "python",
   "nbconvert_exporter": "python",
   "pygments_lexer": "ipython3",
   "version": "3.13.3"
  }
 },
 "nbformat": 4,
 "nbformat_minor": 5
}
