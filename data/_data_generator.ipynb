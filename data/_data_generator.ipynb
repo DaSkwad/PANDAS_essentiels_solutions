{
 "cells": [
  {
   "cell_type": "code",
   "execution_count": 18,
   "id": "ad7f3ac9",
   "metadata": {},
   "outputs": [],
   "source": [
    "import pandas as pd\n",
    "import numpy as np\n",
    "from faker import Faker\n",
    "\n",
    "# Initialisation\n",
    "fake = Faker(\"fr_FR\")\n",
    "np.random.seed(42)\n",
    "n = 1000"
   ]
  },
  {
   "cell_type": "code",
   "execution_count": 19,
   "id": "e479b487",
   "metadata": {},
   "outputs": [],
   "source": [
    "# Génération des données\n",
    "noms_complets = [f\"{fake.first_name()} {fake.last_name()}\" for _ in range(n)]\n",
    "ages = np.random.randint(18, 65, size=n)\n",
    "villes = np.random.choice([\"Paris\", \"Lyon\", \"Marseille\", \"Bordeaux\", \"Lille\"], size=n)\n",
    "salaires = np.random.randint(20000, 80000, size=n)\n",
    "statuts = np.random.choice([\"Célibataire\", \"Marié(e)\", \"Divorcé(e)\"], size=n)\n",
    "\n",
    "# Création du DataFrame\n",
    "df = pd.DataFrame({\n",
    "    \"Nom_complet\": noms_complets,\n",
    "    \"Age\": ages,\n",
    "    \"Ville\": villes,\n",
    "    \"Salaire\": salaires,\n",
    "    \"Statut\": statuts\n",
    "})\n",
    "\n",
    "# Sauvegarde\n",
    "df.to_csv(\"employees.csv\", index=False)"
   ]
  },
  {
   "cell_type": "code",
   "execution_count": 20,
   "id": "0a785a30",
   "metadata": {},
   "outputs": [],
   "source": [
    "# Génération des données avec des valeurs manquantes\n",
    "noms_complets = [f\"{fake.first_name()} {fake.last_name()}\" for _ in range(n)]\n",
    "ages = np.random.randint(18, 65, size=n)\n",
    "villes = np.random.choice([\"Paris\", \"Lyon\", \"Marseille\", \"Bordeaux\", \"Lille\"], size=n)\n",
    "salaires = np.random.randint(20000, 80000, size=n)\n",
    "statuts = np.random.choice([\"Célibataire\", \"Marié(e)\", \"Divorcé(e)\"], size=n)\n",
    "\n",
    "# Création du DataFrame\n",
    "df = pd.DataFrame({\n",
    "    \"Nom_complet\": noms_complets,\n",
    "    \"Age\": ages,\n",
    "    \"Ville\": villes,\n",
    "    \"Salaire\": salaires,\n",
    "    \"Statut\": statuts\n",
    "})\n",
    "\n",
    "# Introduire 5 % de valeurs manquantes dans plusieurs colonnes\n",
    "def insert_null_values(df, proportion=0.05):\n",
    "    total_vals = df.size\n",
    "    n_nulls = int(total_vals * proportion)\n",
    "    for _ in range(n_nulls):\n",
    "        i = np.random.randint(0, df.shape[0])\n",
    "        j = np.random.randint(0, df.shape[1])\n",
    "        df.iat[i, j] = np.nan\n",
    "    return df\n",
    "\n",
    "df = insert_null_values(df, proportion=0.05)\n",
    "\n",
    "# Sauvegarde\n",
    "df.to_csv(\"employees_nulls.csv\", index=False)"
   ]
  },
  {
   "cell_type": "code",
   "execution_count": 21,
   "id": "07d03c88",
   "metadata": {},
   "outputs": [],
   "source": [
    "# ------------ Datasets pour démo FUSION VERTICALE ----------------------\n",
    "for i in range(1, 10):\n",
    "    sales = pd.DataFrame({\n",
    "        \"Date\": pd.date_range(start=f\"2024-0{i}-01\", periods=5, freq=\"D\"),\n",
    "        \"Produit\": np.random.choice([\"A\", \"B\", \"C\", \"D\", \"E\", \"F\"], size=5),\n",
    "        \"Quantité\": np.random.randint(1, 10, size=5)\n",
    "    })\n",
    "    sales.to_csv(f\"sales_{i}.csv\", index=False)"
   ]
  },
  {
   "cell_type": "code",
   "execution_count": null,
   "id": "8a3af524",
   "metadata": {},
   "outputs": [],
   "source": [
    "\n",
    "# ------------ Datasets pour exercice FUSION HORIZONTALE -------------------\n",
    "\n",
    "# Étudiants\n",
    "students = pd.DataFrame({\n",
    "    \"ID\": range(1, 6),\n",
    "    \"Nom\": [fake.name() for _ in range(5)],\n",
    "    \"Cursus\": np.random.choice([\"Data Science\", \"Informatique\", \"Mathématiques\"], size=5)\n",
    "})\n",
    "students.to_csv(\"students.csv\", index=False)\n",
    "\n",
    "# Notes (certains étudiants peuvent être absents, d'autres apparaître plusieurs fois)\n",
    "notes = pd.DataFrame({\n",
    "    \"Etudiant_ID\": [1, 2, 1, 5, 6],  # 6 n'existe pas dans etudiants\n",
    "    \"Note\": np.random.randint(50, 100, size=5)\n",
    "})\n",
    "notes.to_csv(\"notes.csv\", index=False)\n",
    "\n",
    "\n",
    "# ------------ Datasets pour exercice FUSION VERTICALE ----------------------\n",
    "for i in range(1, 10):\n",
    "    sessions = pd.DataFrame({\n",
    "        \"Date\": pd.date_range(start=\"2024-03-01\", periods=5, freq=\"D\"),\n",
    "        \"Thème\": np.random.choice([\"IA\", \"Python\", \"Maths\"], size=5),\n",
    "        \"Participant\": [fake.name() for _ in range(5)]\n",
    "    })\n",
    "    sessions.to_csv(f\"sessions_{i}.csv\", index=False)\n",
    "\n"
   ]
  }
 ],
 "metadata": {
  "kernelspec": {
   "display_name": ".venv",
   "language": "python",
   "name": "python3"
  },
  "language_info": {
   "codemirror_mode": {
    "name": "ipython",
    "version": 3
   },
   "file_extension": ".py",
   "mimetype": "text/x-python",
   "name": "python",
   "nbconvert_exporter": "python",
   "pygments_lexer": "ipython3",
   "version": "3.13.3"
  }
 },
 "nbformat": 4,
 "nbformat_minor": 5
}
